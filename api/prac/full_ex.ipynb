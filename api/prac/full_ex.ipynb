{
 "cells": [
  {
   "attachments": {},
   "cell_type": "markdown",
   "metadata": {},
   "source": [
    "## FastAPI with React\n",
    "\n",
    "- To create the backend server-side of a full-stack web app using FastAPI to retrieve data from a MongoDB table and display it in a React app, you'll need to perform the following steps:\n",
    "\n",
    "1. Set up FastAPI and MongoDB: Install FastAPI and the necessary MongoDB library (such as `motor`) in your Python environment. Set up the MongoDB connection with the appropriate credentials and database details.\n",
    "\n",
    "2. Create FastAPI endpoints: Define the necessary FastAPI endpoints to retrieve data from the MongoDB table. This typically involves creating a route that queries the database and returns the data as a JSON response.\n"
   ]
  },
  {
   "cell_type": "code",
   "execution_count": null,
   "metadata": {},
   "outputs": [],
   "source": [
    "from fastapi import FastAPI\n",
    "from fastapi.middleware.cors import CORSMiddleware\n",
    "from motor.motor_asyncio import AsyncIOMotorClient\n",
    "\n",
    "app = FastAPI()\n",
    "\n",
    "# Allow CORS for development purposes (update with your specific frontend URL)\n",
    "origins = [\n",
    "    \"http://localhost\",\n",
    "    \"http://localhost:3000\",\n",
    "]\n",
    "\n",
    "app.add_middleware(\n",
    "    CORSMiddleware,\n",
    "    allow_origins=origins,\n",
    "    allow_credentials=True,\n",
    "    allow_methods=[\"*\"],\n",
    "    allow_headers=[\"*\"],\n",
    ")\n",
    "\n",
    "# Connect to MongoDB\n",
    "client = AsyncIOMotorClient(\"mongodb://localhost:27017\")\n",
    "db = client[\"your_database_name\"]\n",
    "collection = db[\"your_collection_name\"]\n",
    "\n",
    "\n",
    "@app.get(\"/api/data\")\n",
    "async def get_data():\n",
    "\tdata = []\n",
    "\tasync for document in collection.find():\n",
    "\t\t\t\tdata.append(document)\n",
    "\treturn data\n",
    "\n",
    "\"\"\"\n",
    "\tIn this example, the `/api/data` endpoint queries the `collection` in the specified MongoDB database and returns the data as a JSON response. \n",
    "\"\"\"\n"
   ]
  },
  {
   "attachments": {},
   "cell_type": "markdown",
   "metadata": {},
   "source": [
    "3. Run the FastAPI server: Start the FastAPI server to make the endpoints available for requests.\n",
    "\n",
    "   ```bash\n",
    "   uvicorn main:app --reload\n",
    "   ```\n",
    "Assuming the code is in a file named `main.py`, this command starts the server on `http://localhost:8000` and enables auto-reloading for development.\n"
   ]
  },
  {
   "cell_type": "code",
   "execution_count": null,
   "metadata": {
    "vscode": {
     "languageId": "shellscript"
    }
   },
   "outputs": [],
   "source": [
    "uvicorn main:app --reload"
   ]
  },
  {
   "cell_type": "code",
   "execution_count": null,
   "metadata": {
    "vscode": {
     "languageId": "javascript"
    }
   },
   "outputs": [],
   "source": [
    "/* 4. Fetch and display the data in the React app: In your React app, fetch the data from the FastAPI endpoint and display it using the steps outlined in a previous response. */\n",
    "\n",
    "   import React, { useEffect, useState } from 'react';\n",
    "\n",
    "   function MyComponent() {\n",
    "     const [data, setData] = useState([]);\n",
    "\n",
    "     useEffect(() => {\n",
    "       fetch('http://localhost:8000/api/data') // Update with your FastAPI server URL\n",
    "         .then((response) => response.json())\n",
    "         .then((data) => setData(data));\n",
    "     }, []);\n",
    "\n",
    "     return (\n",
    "       <div>\n",
    "         <ul>\n",
    "           {data.map((item) => (\n",
    "             <li key={item.id}>{item.name}</li>\n",
    "           ))}\n",
    "         </ul>\n",
    "       </div>\n",
    "     );\n",
    "};\n",
    "\n",
    "  // # replace `'http://localhost:8000/api/data'` with the actual URL of your FastAPI server."
   ]
  },
  {
   "attachments": {},
   "cell_type": "markdown",
   "metadata": {},
   "source": [
    "With these steps, you should be able to create a full-stack web app using FastAPI for the backend to retrieve data from a MongoDB table and display it in a React app. Remember to adjust the code based on your specific MongoDB database and collection names, as well as any authentication or additional data processing requirements you may have."
   ]
  }
 ],
 "metadata": {
  "language_info": {
   "name": "python"
  },
  "orig_nbformat": 4
 },
 "nbformat": 4,
 "nbformat_minor": 2
}
