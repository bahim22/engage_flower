{
 "cells": [
  {
   "cell_type": "code",
   "execution_count": null,
   "metadata": {},
   "outputs": [],
   "source": [
    "from fastapi import FastAPI\n",
    "\n",
    "app = FastAPI()\n",
    "\n",
    "@app.get(\"/\")\n",
    "async def root():\n",
    "    return { \"message\": \"Welcome to DeD\"}"
   ]
  },
  {
   "cell_type": "code",
   "execution_count": null,
   "metadata": {
    "vscode": {
     "languageId": "shellscript"
    }
   },
   "outputs": [],
   "source": [
    "# run live server from shell\n",
    "\n",
    "uvicorn main:app --reload"
   ]
  },
  {
   "cell_type": "code",
   "execution_count": null,
   "metadata": {},
   "outputs": [],
   "source": [
    "# Pydantic example  \n",
    "from datetime import datetime\n",
    "from pydantic import BaseModel\n",
    "\n",
    "class User(BaseModel):\n",
    "    id: int\n",
    "    name = \"Hima Ded\"\n",
    "    signup_ts: datetime | None = None\n",
    "    friends: list[int] = []\n",
    "    \n",
    "ext_data = {\n",
    "    \"id\": \"999\",\n",
    "    \"signup_ts\": \"2023-05-05 1:50\",\n",
    "    \"friends\": [1, \"2\", b\"3\"],\n",
    "}\n",
    "user = User(**ext_data)\n",
    "print(user)\n",
    "# > User id=123 name='John Doe' \\\n",
    "# \t\tsignup_ts=datetime.datetime(2017, 6, 1, 12, 22) \\\n",
    "# \t\tfriends=[1, 2, 3]\n",
    "print(user.id)\n",
    "# > 999 "
   ]
  },
  {
   "cell_type": "markdown",
   "metadata": {},
   "source": [
    "- import FastAPI (Python class that provides functionality for APIs)\n",
    "- create an \"instance\"\n",
    "- Here the app variable will be an \"instance\" of the class FastAPI.\n",
    "- create path operation (path refers to last part of the URL from the first /)\n",
    "  - aka endpoint or route\n",
    "  - path is main way to separate concerns and resources\n",
    "- Operations refer to HTTP methods\n",
    "  - [POST, GET, PUT, DELETE, OPTIONS, HEAD, PATH, TRACE]\n",
    "- DEFINE A PATH OPERATION DECORATOR\n",
    "\n",
    "1. Schema: def or description; not the code, but abstract def\n",
    "   1. ex. API paths, param., etc.\n",
    "2. Data Schema: shape of some data, (ex. JSON content)\n",
    "   1. JSON attributes and data types they have\n",
    "3. OpenAPI defines an API schema for your API. And that schema includes definitions (or \"schemas\") of the data sent and received by your API using JSON Schema, the standard for JSON data schemas.\n",
    "\n",
    "```json\n",
    "ex. schema\n",
    "{\n",
    "    \"openapi\": \"3.0.2\",\n",
    "    \"info\": {\n",
    "        \"title\": \"FastAPI\",\n",
    "        \"version\": \"0.1.0\"\n",
    "    },\n",
    "\t\t\"paths\":{\"/\":{\"get\":{\"summary\":\"Root\",\"operationId\":\"root__get\",\"responses\":{\"200\":{\"description\":\"Successful Response\",\"content\":{\"application/json\":{\"schema\":{}}}}}}}}},\n",
    "    \"paths\": {\n",
    "        \"/items/\": {\n",
    "            \"get\": {\n",
    "                \"responses\": {\n",
    "                    \"200\": {\n",
    "                        \"description\": \"Successful Response\",\n",
    "                        \"content\": {\n",
    "                            \"application/json\": {\n",
    "```"
   ]
  },
  {
   "attachments": {},
   "cell_type": "markdown",
   "metadata": {},
   "source": [
    "- create __init__.py file so the folder with Python script is recognized as a Python module\n",
    "- run live server from shell, need to change main:app (depending on dir main.py is located)\n",
    "\n",
    "```sh\n",
    "# uvicorn app.main:app --reload\n",
    "# uvicorn prac.main:app --reload --host 0.0.0.0 --port 80\n",
    "uvicorn main:app --reload\n",
    "```\n",
    "\n",
    "- Use `APIRouter` to declare path ops\n",
    "- Then make endpoint available by declaring in main.py\n",
    "\n",
    "## urllib module\n",
    "\n",
    "\n",
    "```py\n",
    "import urllib\n",
    "\n",
    "urllib.parse.urlparse('urlstring', scheme='', allow_fragments=True)\n",
    "\n",
    "from urllib.parse import urlparse\n",
    "\n",
    "def urlparse(\n",
    "    url: str,\n",
    "    scheme: str = \"\",\n",
    "    allow_fragments: bool = True\n",
    ") -> ParseResult: ...\n",
    "```\n",
    "\n",
    "[Python Docs][def]\n",
    "\n",
    "### urllib.parse module:\n",
    "\n",
    "- breaks Uniform Resource Locator (URL) strings up in components (addressing scheme, network location, path etc.)\n",
    "- combine the components back into a URL string\n",
    "- convert a “relative URL” to an absolute URL given a “base URL.\"\n",
    "- The result is a named 6-tuple with fields corresponding to the above.\n",
    "- The username, password, hostname, and port sub-components of netloc can also be accessed as attributes of the returned object\n",
    "\n",
    "[def]: https://docs.python.org/3/library/urllib.parse.html#module-urllib.parse"
   ]
  },
  {
   "cell_type": "code",
   "execution_count": 1,
   "metadata": {},
   "outputs": [
    {
     "data": {
      "text/plain": [
       "ParseResult(scheme='scheme', netloc='netloc', path='/path;parameters', params='', query='query', fragment='fragment')"
      ]
     },
     "execution_count": 1,
     "metadata": {},
     "output_type": "execute_result"
    }
   ],
   "source": [
    "from urllib.parse import urlparse\n",
    "\n",
    "urlparse(\"scheme://netloc/path;parameters?query#fragment\")"
   ]
  },
  {
   "cell_type": "code",
   "execution_count": 2,
   "metadata": {},
   "outputs": [],
   "source": [
    "o = urlparse(\"http://docs.python.org:80/3/library/urllib.parse.html?\"\n",
    "        \"highlight=params#url-parsing\")\n"
   ]
  },
  {
   "cell_type": "code",
   "execution_count": 4,
   "metadata": {},
   "outputs": [
    {
     "name": "stdout",
     "output_type": "stream",
     "text": [
      "ParseResult(scheme='http', netloc='docs.python.org:80', path='/3/library/urllib.parse.html', params='', query='highlight=params', fragment='url-parsing') \n",
      " http://docs.python.org:80/3/library/urllib.parse.html?highlight=params\n"
     ]
    }
   ],
   "source": [
    "# o\n",
    "# o1 = f'{o.scheme}'\n",
    "o2 = o._replace(fragment=\"\").geturl()\n",
    "print(f'{o} \\n {o2}')"
   ]
  },
  {
   "cell_type": "code",
   "execution_count": null,
   "metadata": {},
   "outputs": [],
   "source": [
    "from urllib.parse import urljoin\n",
    "urljoin('http://www.cwi.nl/%7Eguido/Python.html', 'FAQ.html')"
   ]
  },
  {
   "cell_type": "code",
   "execution_count": null,
   "metadata": {},
   "outputs": [],
   "source": [
    "parse_list: tuple[()] = ()\n"
   ]
  },
  {
   "cell_type": "code",
   "execution_count": null,
   "metadata": {},
   "outputs": [],
   "source": [
    "import sqlalchemy\n",
    "\n",
    "metadata = sqlalchemy.MetaData()\n",
    "\n",
    "\n",
    "mytable = sqlalchemy.Table(\n",
    "\t\t\"mytable\", metadata,\n",
    "\t\tsqlalchemy.Column('mytable_id', sqlalchemy.Integer, primary_key=True),\n",
    "\t\tsqlalchemy.Column('value', sqlalchemy.String(50))\n",
    "\t\t# Construct a new Column object. with param for name and type\n",
    "\t\t# Date, text, Index, Numeric, ForeignKey, func, schema\n",
    ")"
   ]
  },
  {
   "attachments": {},
   "cell_type": "markdown",
   "metadata": {},
   "source": [
    "## sqlalchemy.MetaData()\n",
    "A collection of _schema.Table objects and their associated schema constructs.\n",
    "\n",
    "Holds a collection of _schema.Table objects as well as\n",
    "an optional binding to an _engine.Engine or\n",
    "_engine.Connection. If bound, the _schema.Table objects in the collection and their columns may participate in implicit SQL execution.\n",
    "\n",
    "The _schema.Table objects themselves are stored in the _schema.MetaData.tables dictionary.\n",
    "\n",
    "_schema.MetaData is a thread-safe object for read operations.\n",
    "Construction of new tables within a single _schema.MetaData object, either explicitly or via reflection, may not be completely thread-safe."
   ]
  },
  {
   "attachments": {},
   "cell_type": "markdown",
   "metadata": {},
   "source": [
    "\n",
    "- These are models built with Pydantic’s BaseModel. Pydantic models help you define request payload models and response models in Python Class object notation\n"
   ]
  },
  {
   "cell_type": "code",
   "execution_count": null,
   "metadata": {},
   "outputs": [],
   "source": [
    "# NoteIn: model in JSON form used as payload to Create or Update note endpoints\n",
    "class NoteIn(BaseModel):\n",
    "    text: str\n",
    "    completed: bool\n",
    "\n",
    "# Note: model in JSON form used as response to retrieve notes collection or 1 note via an ID.\n",
    "class Note(BaseModel):\n",
    "    id: int\n",
    "    text: str\n",
    "    completed: bool"
   ]
  },
  {
   "cell_type": "code",
   "execution_count": null,
   "metadata": {
    "vscode": {
     "languageId": "json"
    }
   },
   "outputs": [],
   "source": [
    "// JSON for NoteIn model\n",
    "{\n",
    "    \"text\": \"example note\",\n",
    "    \"completed\": false\n",
    "}\n",
    "\n",
    "// JSON for Note model\n",
    "{\n",
    "\t\"id\": 7,\n",
    "\t\"text\": \"example note\",\n",
    "\t\"completed\": false\n",
    "}"
   ]
  },
  {
   "attachments": {},
   "cell_type": "markdown",
   "metadata": {},
   "source": [
    "Need to enable CORS at app or endpoint level to tell FastAPI to allow req from external callers to the endpoints in the FastAPI app, which allows the API endpoints to be consumed in client app.\n"
   ]
  },
  {
   "cell_type": "code",
   "execution_count": null,
   "metadata": {},
   "outputs": [],
   "source": [
    "\n",
    "app = FastAPI(title=\"Example title\")\n",
    "\n",
    "app.add_middleware(\n",
    "    CORSMiddleware,\n",
    "    middleware,\n",
    "    allow_origins=[\"client-app.com\", 'localhost:5000', 'http://127.0.0.1:8000/'],\n",
    "    allow_credentials=True,\n",
    "    allow_methods=[\"*\"],\n",
    "    allow_headers=[\"*\"]\n",
    ")"
   ]
  }
 ],
 "metadata": {
  "kernelspec": {
   "display_name": ".venv",
   "language": "python",
   "name": "python3"
  },
  "language_info": {
   "codemirror_mode": {
    "name": "ipython",
    "version": 3
   },
   "file_extension": ".py",
   "mimetype": "text/x-python",
   "name": "python",
   "nbconvert_exporter": "python",
   "pygments_lexer": "ipython3",
   "version": "3.10.6"
  },
  "orig_nbformat": 4
 },
 "nbformat": 4,
 "nbformat_minor": 2
}
