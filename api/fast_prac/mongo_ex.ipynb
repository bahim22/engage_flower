{
 "cells": [
  {
   "cell_type": "markdown",
   "metadata": {},
   "source": [
    "# PGAdmin info\n",
    "\n",
    "## [AZ PostgreSQL flex server](https://portal.azure.com/#@pointpark.edu/resource/subscriptions/743164d2-457d-4c23-bbcb-de1ad955f720/resourceGroups/Fast1/providers/Microsoft.DBforPostgreSQL/flexibleServers/glrp1/connect)\n",
    "\n",
    "1. Open pgAdmin 4: Launch the pgAdmin 4 application on your computer.\n",
    "2. Register a new server: In the pgAdmin 4 interface, right-click on \"Servers\" in the left-side browser tree, and select \"Register” -> “Server\"\n",
    "3. Configure server details: In the \"Register - Server\" window, you will see multiple tabs - \"General\", \"Connection\", \"SSL\", and others. Fill in the following details:\n",
    "   1. General tab\n",
    "   2. Name: Provide a name for the connection (e.g., \"myAzureFlexInstance\").\n",
    "   3. Connection tab\n",
    "      1. Hostname/address: Enter glrp1.postgres.database.azure.com\n",
    "      2. Port: Leave the port number as is (default is 5432) if you don't want to connect through pgBouncer. If you are using PgBouncer for connection pooling, change the port number to 6432.\n",
    "      3. Maintenance database: Leave the default\n",
    "      4. Username: Enter hapg\n",
    "      5. Password: Click on the \"Save password\" checkbox if you want the password to be preserved and enter the corresponding password for the user.\n",
    "4. Save the configuration: Click the \"Save\" button to save the server registration. pgAdmin 4 will now establish a connection to your Azure Database for PostgreSQL Flexible Server.\n",
    "5. Access the database: Once connected, you can expand the server in the browser tree to view databases, schemas, and tables. You can also interact with the server using the built-in query tool and manage your database objects.\n",
    "\n",
    "- Can set env var and connect with other Postgres utilities (psql, pgAdmin)"
   ]
  },
  {
   "cell_type": "markdown",
   "metadata": {},
   "source": [
    "# PyMongo and MongoClient info"
   ]
  },
  {
   "cell_type": "code",
   "execution_count": null,
   "metadata": {
    "vscode": {
     "languageId": "shellscript"
    }
   },
   "outputs": [],
   "source": [
    "class MongoClient(\n",
    "    host: str | Sequence[str] | None = None,\n",
    "    port: int | None = None,\n",
    "    document_class: Unknown | None = None,\n",
    "    tz_aware: bool | None = None,\n",
    "    connect: bool | None = None,\n",
    "    type_registry: TypeRegistry | None = None,\n",
    "    **kwargs: Any\n",
    ")"
   ]
  },
  {
   "cell_type": "code",
   "execution_count": null,
   "metadata": {},
   "outputs": [],
   "source": [
    "\n",
    "from pymongo import MongoClient\n",
    "\n",
    "uri = \"mongodb+srv://cluster2.ofkfp.mongodb.net/?authSource=%24external&authMechanism=MONGODB-X509&retryWrites=true&w=majority\"\n",
    "\n",
    "client = MongoClient(\n",
    "    uri,\n",
    "    tls=True,\n",
    "    tlsCertificateKeyFile='<path_to_certificate>',\n",
    "    # server_api=ServerApi('1')\n",
    ")\n",
    "\n",
    "db = client['testDB']\n",
    "collection = db['testCol']\n",
    "doc_count = collection.count_documents({})\n",
    "print(doc_count)\n"
   ]
  },
  {
   "cell_type": "code",
   "execution_count": null,
   "metadata": {},
   "outputs": [],
   "source": [
    "from urllib.parse import quote_plus\n",
    "\n",
    "user: str = \"user1\"\n",
    "password: str = \"passwd1\"\n",
    "# host: ipaddress.IPv4Network = 127.0.0.1:27001 | http://localhost\n",
    "host = [\"localhost:8080\", \"http://127.0.0.1:8000/\"]\n",
    "socket_path = 'uri'\n",
    "\n",
    "uri1 = \"mongodb://%s:%s@%s\" % (\n",
    "    quote_plus(user),\n",
    "    quote_plus(password),\n",
    "    host\n",
    ")\n",
    "\n",
    "client = MongoClient(uri)\n",
    "\n",
    "# Unix domain sockets are also supported. \n",
    "# The socket path must be percent encoded in the URI:\n",
    "\n",
    "uri2 = \"mongodb://%s:%s@%s\" % (\n",
    "    quote_plus(user),\n",
    "    quote_plus(password),\n",
    "    quote_plus(socket_path)\n",
    ")\n",
    "\n",
    "client2 = MongoClient(uri)\n",
    "\n",
    "# But not when passed as a simple hostname:\n",
    "client3 = MongoClient('/tmp/mongodb-27017.sock')\n"
   ]
  },
  {
   "cell_type": "code",
   "execution_count": null,
   "metadata": {},
   "outputs": [],
   "source": [
    "\n",
    "from pymongo.mongo_client import MongoClient\n",
    "from pymongo.server_api import ServerApi\n",
    "\n",
    "uri = \"mongodb+srv://<username>:<password>@cluster2.ofkfp.mongodb.net/?retryWrites=true&w=majority\"\n",
    "\n",
    "# Create a new client and connect to the server\n",
    "client = MongoClient(uri, server_api=ServerApi('1'))\n",
    "\n",
    "# Send a ping to confirm a successful connection\n",
    "try:\n",
    "    client.admin.command('ping')\n",
    "    print(\"Pinged your deployment. You successfully connected to MongoDB!\")\n",
    "except Exception as e:\n",
    "    print(e)"
   ]
  },
  {
   "cell_type": "code",
   "execution_count": null,
   "metadata": {
    "vscode": {
     "languageId": "javascript"
    }
   },
   "outputs": [],
   "source": [
    "\n",
    "const { MongoClient, ServerApiVersion } = require('mongodb');\n",
    "const fs = require('fs');\n",
    "\n",
    "const credentials = '<path_to_certificate>'\n",
    "\n",
    "const client = new MongoClient('mongodb+srv://cluster0.6ybaeqt.mongodb.net/?authSource=%24external&authMechanism=MONGODB-X509&retryWrites=true&w=majority', {\n",
    "  sslKey: credentials,\n",
    "  sslCert: credentials,\n",
    "  serverApi: ServerApiVersion.v1\n",
    "});\n",
    "\n",
    "async function run() {\n",
    "  try {\n",
    "    await client.connect();\n",
    "    const database = client.db(\"testDB\");\n",
    "    const collection = database.collection(\"testCol\");\n",
    "    const docCount = await collection.countDocuments({});\n",
    "    console.log(docCount);\n",
    "    // perform actions using client\n",
    "  } finally {\n",
    "    // Ensures that the client will close when you finish/error\n",
    "    await client.close();\n",
    "  }\n",
    "}\n",
    "\n",
    "run().catch(console.dir);\n"
   ]
  },
  {
   "cell_type": "code",
   "execution_count": null,
   "metadata": {
    "vscode": {
     "languageId": "javascript"
    }
   },
   "outputs": [],
   "source": [
    "\n",
    "const { MongoClient, ServerApiVersion } = require('mongodb');\n",
    "const uri = \"mongodb+srv://<username>:<password>@cluster0.6ybaeqt.mongodb.net/?retryWrites=true&w=majority\";\n",
    "\n",
    "// Create a MongoClient with a MongoClientOptions object to set the Stable API version\n",
    "const client = new MongoClient(uri, {\n",
    "  serverApi: {\n",
    "    version: ServerApiVersion.v1,\n",
    "    strict: true,\n",
    "    deprecationErrors: true,\n",
    "  }\n",
    "});\n",
    "\n",
    "async function run() {\n",
    "  try {\n",
    "    // Connect the client to the server\t(optional starting in v4.7)\n",
    "    await client.connect();\n",
    "    // Send a ping to confirm a successful connection\n",
    "    await client.db(\"admin\").command({ ping: 1 });\n",
    "    console.log(\"Pinged your deployment. You successfully connected to MongoDB!\");\n",
    "  } finally {\n",
    "    // Ensures that the client will close when you finish/error\n",
    "    await client.close();\n",
    "  }\n",
    "}\n",
    "run().catch(console.dir);\n"
   ]
  }
 ],
 "metadata": {
  "language_info": {
   "name": "python"
  },
  "orig_nbformat": 4
 },
 "nbformat": 4,
 "nbformat_minor": 2
}
