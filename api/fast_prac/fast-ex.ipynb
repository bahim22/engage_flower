{
 "cells": [
  {
   "attachments": {},
   "cell_type": "markdown",
   "metadata": {},
   "source": [
    "\n",
    "# FastAPI info\n",
    "\n",
    "- import FastAPI (Python class that provides functionality for APIs)\n",
    "- create an \"instance\"\n",
    "- Here the app variable will be an \"instance\" of the class FastAPI.\n",
    "- create path operation (path refers to last part of the URL from the first /)\n",
    "  - aka endpoint or route\n",
    "  - path is main way to separate concerns and resources\n",
    "- Operations refer to HTTP methods: POST, GET, PUT, DELETE, OPTIONS, HEAD, PATH, TRACE\n",
    "- DEFINE A PATH OPERATION DECORATOR\n",
    "\n",
    "1. Schema: def or description; not the code, but abstract def\n",
    "   1. ex. API paths, param., etc.\n",
    "2. Data Schema: shape of some data, (ex. JSON content)\n",
    "   1. JSON attributes and data types they have\n",
    "3. OpenAPI defines an API schema for your API. And that schema includes definitions (or \"schemas\") of the data sent and received by your API using JSON Schema, the standard for JSON data schemas.\n",
    "\n",
    "- create __init__.py file so the folder with Python script is recognized as a Python module\n",
    "- run live server from shell, need to change main:app (depending on dir main.py is located)\n",
    "\n",
    "```sh\n",
    "# uvicorn app.main:app --reload\n",
    "# uvicorn prac.main:app --reload --host 0.0.0.0 --port 80\n",
    "uvicorn main:app --reload\n",
    "```\n",
    "\n",
    "- Use `APIRouter` to declare path ops\n",
    "- Then make endpoint available by declaring in main.py"
   ]
  },
  {
   "attachments": {},
   "cell_type": "markdown",
   "metadata": {},
   "source": [
    "## Links to resources used while learning FastAPI\n",
    "\n",
    "\n",
    "[TutlinksPostgreSQL](https://tutlinks.com/fastapi-with-postgresql-crud-async/)\n",
    "\n",
    "[TutlinksDeploy](https://tutlinks.com/deploy-fastapi-on-azure/)\n",
    "\n",
    "[GitHubWindsonFastapi](https://github.com/windson/fastapi/blob/fastapi-postgresql-azure-deploy/main.py)\n",
    "\n",
    "[MediumFastAPI](https://gabbyprecious.medium.com/creating-a-crud-app-with-fastapi-part-one-7c049292ad37)\n",
    "\n",
    "[GitHubAaronFARM-Intro](https://github.com/aaronbassett/FARM-Intro/blob/main/backend/main.py)"
   ]
  },
  {
   "cell_type": "markdown",
   "metadata": {},
   "source": [
    "\n",
    "# FastAPI info\n",
    "\n",
    "- import FastAPI (Python class that provides functionality for APIs)\n",
    "- create an \"instance\"\n",
    "- Here the app variable will be an \"instance\" of the class FastAPI.\n",
    "- create path operation (path refers to last part of the URL from the first /)\n",
    "  - aka endpoint or route\n",
    "  - path is main way to separate concerns and resources\n",
    "- Operations refer to HTTP methods: POST, GET, PUT, DELETE, OPTIONS, HEAD, PATH, TRACE\n",
    "- DEFINE A PATH OPERATION DECORATOR\n",
    "\n",
    "1. Schema: def or description; not the code, but abstract def\n",
    "   1. ex. API paths, param., etc.\n",
    "2. Data Schema: shape of some data, (ex. JSON content)\n",
    "   1. JSON attributes and data types they have\n",
    "3. OpenAPI defines an API schema for your API. And that schema includes definitions (or \"schemas\") of the data sent and received by your API using JSON Schema, the standard for JSON data schemas.\n",
    "\n",
    "- create __init__.py file so the folder with Python script is recognized as a Python module\n",
    "- run live server from shell, need to change main:app (depending on dir main.py is located)\n",
    "\n",
    "```sh\n",
    "# uvicorn app.main:app --reload\n",
    "# uvicorn prac.main:app --reload --host 0.0.0.0 --port 80\n",
    "uvicorn main:app --reload\n",
    "```\n",
    "\n",
    "- Use `APIRouter` to declare path ops\n",
    "- Then make endpoint available by declaring in main.py\n"
   ]
  },
  {
   "attachments": {},
   "cell_type": "markdown",
   "metadata": {},
   "source": [
    "# FastAPI Docs & Examples"
   ]
  },
  {
   "cell_type": "code",
   "execution_count": null,
   "metadata": {},
   "outputs": [],
   "source": [
    "from fastapi import FastAPI\n",
    "\n",
    "app = FastAPI()\n",
    "\n",
    "@app.get(\"/\")\n",
    "async def root():\n",
    "    return { \"message\": \"Welcome to DeD\"}"
   ]
  },
  {
   "cell_type": "code",
   "execution_count": null,
   "metadata": {
    "vscode": {
     "languageId": "shellscript"
    }
   },
   "outputs": [],
   "source": [
    "# run live server from shell\n",
    "\n",
    "uvicorn main:app --reload"
   ]
  },
  {
   "cell_type": "code",
   "execution_count": null,
   "metadata": {
    "vscode": {
     "languageId": "shellscript"
    }
   },
   "outputs": [],
   "source": [
    "# app/app/main.py\n",
    "from fastapi import FastAPI\n",
    "import api.app.polls.endpoints as poll_endpoints\n",
    "from app.polls import endpoints\n",
    "\n",
    "app = FastAPI()\n",
    "# OG version: import polls.endpoints\n",
    "# app.include_router(polls.endpoints.router, prefix=\"/polls\")\n",
    "app.include_router(poll_endpoints.router, prefix=\"/polls\")\n",
    "app.include_router(endpoints.router, prefix=\"/polls\")\n",
    "\n",
    "\n",
    "@app.get(\"/\")\n",
    "async def root():\n",
    "    return {\"message\": \"Main.py Init Message\"}\n",
    "# uvicorn app.main:app --reload\n"
   ]
  },
  {
   "cell_type": "code",
   "execution_count": null,
   "metadata": {},
   "outputs": [],
   "source": [
    "# Pydantic example  \n",
    "from datetime import datetime\n",
    "from pydantic import BaseModel\n",
    "\n",
    "class User(BaseModel):\n",
    "    id: int\n",
    "    name = \"Hima Ded\"\n",
    "    signup_ts: datetime | None = None\n",
    "    friends: list[int] = []\n",
    "    \n",
    "ext_data = {\n",
    "    \"id\": \"999\",\n",
    "    \"signup_ts\": \"2023-05-05 1:50\",\n",
    "    \"friends\": [1, \"2\", b\"3\"],\n",
    "}\n",
    "user = User(**ext_data)\n",
    "print(user)\n",
    "# > User id=123 name='John Doe' \\\n",
    "# \t\tsignup_ts=datetime.datetime(2017, 6, 1, 12, 22) \\\n",
    "# \t\tfriends=[1, 2, 3]\n",
    "print(user.id)\n",
    "# > 999 "
   ]
  },
  {
   "attachments": {},
   "cell_type": "markdown",
   "metadata": {},
   "source": [
    "## Steps for creating the app\n",
    "\n",
    "- import FastAPI (Python class that provides functionality for APIs)\n",
    "- create an \"instance\"\n",
    "- Here the app variable will be an \"instance\" of the class FastAPI.\n",
    "- create path operation (path refers to last part of the URL from the first /)\n",
    "  - aka endpoint or route\n",
    "  - path is main way to separate concerns and resources\n",
    "- Operations refer to HTTP methods\n",
    "  - [POST, GET, PUT, DELETE, OPTIONS, HEAD, PATH, TRACE]\n",
    "- DEFINE A PATH OPERATION DECORATOR\n",
    "\n",
    "1. **Schema**: def or description; not the code, but abstract def\n",
    "   1. ex. API paths, param., etc.\n",
    "2. `Data Schema`: shape of some data, (ex. JSON content)\n",
    "   1. JSON attributes and data types they have\n",
    "3. OpenAPI defines an API schema for your API. And that schema includes definitions (or \"schemas\") of the data sent and received by your API using JSON Schema, the standard for JSON data schemas.\n",
    "\n",
    "```json\n",
    "ex. schema\n",
    "{\n",
    "    \"openapi\": \"3.0.2\",\n",
    "    \"info\": {\n",
    "        \"title\": \"FastAPI\",\n",
    "        \"version\": \"0.1.0\"\n",
    "    },\n",
    "\t\t\"paths\":{\"/\":{\"get\":{\"summary\":\"Root\",\"operationId\":\"root__get\",\"responses\":{\"200\":{\"description\":\"Successful Response\",\"content\":{\"application/json\":{\"schema\":{}}}}}}}}},\n",
    "    \"paths\": {\n",
    "        \"/items/\": {\n",
    "            \"get\": {\n",
    "                \"responses\": {\n",
    "                    \"200\": {\n",
    "                        \"description\": \"Successful Response\",\n",
    "                        \"content\": {\n",
    "                            \"application/json\": {\n",
    "```"
   ]
  },
  {
   "attachments": {},
   "cell_type": "markdown",
   "metadata": {},
   "source": [
    "- create __init__.py file so the folder with Python script is recognized as a Python module\n",
    "- run live server from shell, need to change main:app (depending on dir main.py is located)\n",
    "\n",
    "```sh\n",
    "# uvicorn app.main:app --reload\n",
    "# uvicorn prac.main:app --reload --host 0.0.0.0 --port 80\n",
    "uvicorn main:app --reload\n",
    "```\n",
    "\n",
    "- Use `APIRouter` to declare path ops\n",
    "- Then make endpoint available by declaring in main.py\n",
    "\n",
    "## urllib module\n",
    "\n",
    "\n",
    "```py\n",
    "import urllib\n",
    "\n",
    "urllib.parse.urlparse('urlstring', scheme='', allow_fragments=True)\n",
    "\n",
    "from urllib.parse import urlparse\n",
    "\n",
    "def urlparse(\n",
    "    url: str,\n",
    "    scheme: str = \"\",\n",
    "    allow_fragments: bool = True\n",
    ") -> ParseResult: ...\n",
    "```\n",
    "\n",
    "[Python Docs][def]\n",
    "\n",
    "### urllib.parse module:\n",
    "\n",
    "- breaks Uniform Resource Locator (URL) strings up in components (addressing scheme, network location, path etc.)\n",
    "- combine the components back into a URL string\n",
    "- convert a “relative URL” to an absolute URL given a “base URL.\"\n",
    "- The result is a named 6-tuple with fields corresponding to the above.\n",
    "- The username, password, hostname, and port sub-components of netloc can also be accessed as attributes of the returned object\n",
    "\n",
    "[def]: https://docs.python.org/3/library/urllib.parse.html#module-urllib.parse"
   ]
  },
  {
   "cell_type": "code",
   "execution_count": 1,
   "metadata": {},
   "outputs": [
    {
     "data": {
      "text/plain": [
       "ParseResult(scheme='scheme', netloc='netloc', path='/path;parameters', params='', query='query', fragment='fragment')"
      ]
     },
     "execution_count": 1,
     "metadata": {},
     "output_type": "execute_result"
    }
   ],
   "source": [
    "from urllib.parse import urlparse\n",
    "\n",
    "urlparse(\"scheme://netloc/path;parameters?query#fragment\")\n",
    "\n",
    "o= urlparse(\"http://docs.python.org:80/3/library/urllib.parse.html?\", \"highlight=params#url-parsing\")\n",
    "\n",
    "# o\n",
    "# o1 = f'{o.scheme}'\n",
    "o2 = o._replace(fragment=\"\").geturl()\n",
    "print(f'{o} \\n {o2}')\n",
    "\n",
    "from urllib.parse import urljoin\n",
    "urljoin('http://www.cwi.nl/%7Eguido/Python.html', 'FAQ.html')\n",
    "\n",
    "# parse_list: tuple[()] = ()"
   ]
  },
  {
   "cell_type": "code",
   "execution_count": 4,
   "metadata": {},
   "outputs": [
    {
     "name": "stdout",
     "output_type": "stream",
     "text": [
      "ParseResult(scheme='http', netloc='docs.python.org:80', path='/3/library/urllib.parse.html', params='', query='highlight=params', fragment='url-parsing') \n",
      " http://docs.python.org:80/3/library/urllib.parse.html?highlight=params\n"
     ]
    }
   ],
   "source": [
    "# o\n",
    "# o1 = f'{o.scheme}'\n",
    "o2 = o._replace(fragment=\"\").geturl()\n",
    "print(f'{o} \\n {o2}')"
   ]
  },
  {
   "cell_type": "code",
   "execution_count": null,
   "metadata": {},
   "outputs": [],
   "source": [
    "import sqlalchemy\n",
    "\n",
    "metadata = sqlalchemy.MetaData()\n",
    "\n",
    "\n",
    "mytable = sqlalchemy.Table(\n",
    "\t\t\"mytable\", metadata,\n",
    "\t\tsqlalchemy.Column('mytable_id', sqlalchemy.Integer, primary_key=True),\n",
    "\t\tsqlalchemy.Column('value', sqlalchemy.String(50))\n",
    "\t\t# Construct a new Column object. with param for name and type\n",
    "\t\t# Date, text, Index, Numeric, ForeignKey, func, schema\n",
    ")"
   ]
  },
  {
   "attachments": {},
   "cell_type": "markdown",
   "metadata": {},
   "source": [
    "## sqlalchemy.MetaData()\n",
    "A collection of _schema.Table objects and their associated schema constructs.\n",
    "\n",
    "Holds a collection of _schema.Table objects as well as\n",
    "an optional binding to an _engine.Engine or\n",
    "_engine.Connection. If bound, the _schema.Table objects in the collection and their columns may participate in implicit SQL execution.\n",
    "\n",
    "The _schema.Table objects themselves are stored in the _schema.MetaData.tables dictionary.\n",
    "\n",
    "_schema.MetaData is a thread-safe object for read operations.\n",
    "Construction of new tables within a single _schema.MetaData object, either explicitly or via reflection, may not be completely thread-safe.\n",
    "\n",
    "### create SQL Alchemy model. \n",
    "\n",
    "- Ex. Table named notes, that stores detials of note in text column and status in completed column. \n",
    "- sqlAlchemy defines the notes table so it matches with the relational db schema in form of Python code\n"
   ]
  },
  {
   "attachments": {},
   "cell_type": "markdown",
   "metadata": {},
   "source": [
    "\n",
    "- These are models built with Pydantic’s BaseModel. Pydantic models help you define request payload models and response models in Python Class object notation\n"
   ]
  },
  {
   "cell_type": "code",
   "execution_count": null,
   "metadata": {},
   "outputs": [],
   "source": [
    "# NoteIn: model in JSON form used as payload to Create or Update note endpoints\n",
    "class NoteIn(BaseModel):\n",
    "    text: str\n",
    "    completed: bool\n",
    "\n",
    "# Note: model in JSON form used as response to retrieve notes collection or 1 note via an ID.\n",
    "class Note(BaseModel):\n",
    "    id: int\n",
    "    text: str\n",
    "    completed: bool"
   ]
  },
  {
   "attachments": {},
   "cell_type": "markdown",
   "metadata": {},
   "source": [
    "# JSON for NoteIn & Note models\n",
    "\n",
    "```json\n",
    "// NoteIn model\n",
    "{\n",
    "    \"text\": \"example note\",\n",
    "    \"completed\": false\n",
    "}\n",
    "\n",
    "// Note model\n",
    "\n",
    "{\n",
    "\t\"id\": 7,\n",
    "\t\"text\": \"example note\",\n",
    "\t\"completed\": false\n",
    "}\n",
    "```\n"
   ]
  },
  {
   "attachments": {},
   "cell_type": "markdown",
   "metadata": {},
   "source": [
    "\n",
    "## CORS, Middleware\n",
    "\n",
    "Need to enable CORS at app or endpoint level to tell FastAPI to allow req from external callers to the endpoints in the FastAPI app, which allows the API endpoints to be consumed in client app.\n",
    "\n",
    "- Cross-Origin Resource Sharing: situation where frontend running in browser has JS that talks to backend & the backend is in a diff origin.\n",
    "- Origin: combo of protocol (http, https), domain (app.com, localhost), and port (80, 443, 8080)\n",
    "  - http://localhost, https://localhost:8080\n",
    "- the backend needs to have a list of \"allowed origins\n",
    "\n",
    "### Steps\n",
    "\n",
    "1. import CORSMiddleware\n",
    "2. create list of allowed origins ['str']\n",
    "3. add it as \"middleware\" to FastAPI app\n",
    "4. can also specify if backend allows:\n",
    "   1. Credentials (Auth headers, Cookies, etc.)\n",
    "   2. HTTP methods (POST, PUT), or all with wildcard \"*\"\n",
    "   3. HTTP headers ( or all of them )\n",
    "\n",
    "```py\n",
    "app.add_middleware(\n",
    "    CORSMiddleware,\n",
    "    allow_origins=[\"origin.com\"],\n",
    "    allow_credentials=True,\n",
    "    allow_headers=[\"*\"],\n",
    "\t\texpose_headers=[],\n",
    "\t\tallow_methods=[\"GET\", \"*\"],\n",
    "\t\tmax_age=600\n",
    ")\n",
    "```\n"
   ]
  },
  {
   "cell_type": "code",
   "execution_count": null,
   "metadata": {},
   "outputs": [],
   "source": [
    "from fastapi import FastAPI\n",
    "from fastapi.middleware.cors import CORSMiddleware\n",
    "\n",
    "app = FastAPI()\n",
    "\n",
    "origins: list[str] = [\n",
    "    \"http://localhost\",\n",
    "    \"http://localhost:8000\",\n",
    "    \"https://localhost:8000\",\n",
    "    \"http://127.0.0.1:8000/\"\n",
    "    \"http://127.0.0.1:3000/\"\n",
    "]\n",
    "\n",
    "app.add_middleware(\n",
    "    CORSMiddleware,\n",
    "    all_origins=origins,\n",
    "    allow_credentials=True,\n",
    "    allow_methods=[\"*\"],\n",
    "    allow_headers=[\"*\"],\n",
    ")\n",
    "\n",
    "@app.get(\"/\")\n",
    "async def main() -> dict[str, str]:\n",
    "    return {\"message\": \"Welcome Middleware\"}"
   ]
  },
  {
   "attachments": {},
   "cell_type": "markdown",
   "metadata": {},
   "source": [
    "\n",
    "## Base Middleware \n",
    "\n",
    "A \"middleware\" is a function that works with every request before it is processed by any specific path operation. And also with every response before returning it\n",
    "\n",
    "- takes each req that comes to the app and does a task or runs code\n",
    "- it passes the req to be processed by rest of app (a path op)\n",
    "- then it takes the response generated by the app (by a path op) and can run code or do a task\n",
    "- it then returns the response\n",
    "\n",
    "```py\n",
    "# non-deprecated middleware from VS Code notes\n",
    "middleware = [Middleware(...), ...]\n",
    "app = Starlette(middleware=middleware)\n",
    "```\n",
    "\n",
    "- middleware func receives:\n",
    "  - the req\n",
    "  - a func call_next that receives the req as a param\n",
    "    - passes the req to corresponding path op\n",
    "    - returns the res generated by that path op\n",
    "- can also add code to run w/ the req, before the path op gets it, or after the res is generated (before returning it)"
   ]
  },
  {
   "cell_type": "code",
   "execution_count": null,
   "metadata": {},
   "outputs": [],
   "source": [
    "from fastapi import FastAPI\n",
    "from fastapi.middleware.cors import CORSMiddleware\n",
    "\n",
    "app = FastAPI(title=\"Example title\")\n",
    "\n",
    "\n",
    "app.add_middleware(\n",
    "    CORSMiddleware,\n",
    "    # allow_origins=[\"client-app.com\", 'localhost:5000', 'http://127.0.0.1:8000/'],\n",
    "\t\tallow_origins = [\"*\"],\n",
    "    allow_credentials=True,\n",
    "    allow_methods=[\"*\"],\n",
    "    allow_headers=[\"*\"]\n",
    ")"
   ]
  }
 ],
 "metadata": {
  "kernelspec": {
   "display_name": ".venv",
   "language": "python",
   "name": "python3"
  },
  "language_info": {
   "codemirror_mode": {
    "name": "ipython",
    "version": 3
   },
   "file_extension": ".py",
   "mimetype": "text/x-python",
   "name": "python",
   "nbconvert_exporter": "python",
   "pygments_lexer": "ipython3",
   "version": "3.10.6"
  },
  "orig_nbformat": 4
 },
 "nbformat": 4,
 "nbformat_minor": 2
}
