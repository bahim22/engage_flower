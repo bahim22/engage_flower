{
 "cells": [
  {
   "cell_type": "markdown",
   "metadata": {},
   "source": [
    "## Azure ID and Microsoft Graph Toolkit"
   ]
  },
  {
   "cell_type": "code",
   "execution_count": null,
   "metadata": {
    "vscode": {
     "languageId": "shellscript"
    }
   },
   "outputs": [],
   "source": [
    "GET https://management.azure.com/subscriptions?api-version=2022-12-01\n",
    "\n",
    "GET https://management.azure.com/subscriptions/ecb56472-8eee-4b34-94ef-20a0e7c2f3a7/resourcegroups?api-version=2021-04-01\""
   ]
  },
  {
   "cell_type": "code",
   "execution_count": null,
   "metadata": {},
   "outputs": [],
   "source": [
    "from azure.identity import DefaultAzureCredential\n",
    "from azure.mgmt.resource import SubscriptionClient\n",
    "\n",
    "\"\"\"\n",
    "# PREREQUISITES\n",
    "    pip install azure-identity\n",
    "    pip install azure-mgmt-resource\n",
    "# USAGE\n",
    "    python get_subscriptions.py\n",
    "\n",
    "\tset the values of the AAD app as env var: AZURE_CLIENT_ID, AZURE_TENANT_ID,\n",
    "    AZURE_CLIENT_SECRET. Info on finding the values:\n",
    "    https://docs.microsoft.com/azure/active-directory/develop/howto-create-service-principal-portal\n",
    "\"\"\"\n",
    "\n",
    "\n",
    "def main():\n",
    "    client = SubscriptionClient(\n",
    "        credential=DefaultAzureCredential(),\n",
    "    )\n",
    "\n",
    "    response = client.subscriptions.list()\n",
    "    for item in response:\n",
    "        print(item)\n",
    "\n",
    "\n",
    "# x-ms-original-file: specification/resources/resource-manager/Microsoft.Resources/stable/2022-12-01/examples/GetSubscriptions.json\n",
    "if __name__ == \"__main__\":\n",
    "    main()"
   ]
  },
  {
   "cell_type": "code",
   "execution_count": null,
   "metadata": {
    "vscode": {
     "languageId": "javascript"
    }
   },
   "outputs": [],
   "source": [
    "const { SubscriptionClient } = require(\"@azure/arm-resources-subscriptions\");\n",
    "const { DefaultAzureCredential } = require(\"@azure/identity\");\n",
    "\n",
    "/* *\n",
    " * This sample demonstrates how to Gets all subscriptions for a tenant.\n",
    " *\n",
    " * @summary Gets all subscriptions for a tenant.\n",
    " * x-ms-original-file: specification/resources/resource-manager/Microsoft.Resources/stable/2022-12-01/examples/GetSubscriptions.json\n",
    " */\n",
    "\n",
    "async function getAllSubscriptions() {\n",
    "  const credential = new DefaultAzureCredential();\n",
    "  const client = new SubscriptionClient(credential);\n",
    "  const resArray = new Array();\n",
    "  for await (let item of client.subscriptions.list()) {\n",
    "    resArray.push(item);\n",
    "  }\n",
    "  console.log(resArray);\n",
    "}"
   ]
  }
 ],
 "metadata": {
  "kernelspec": {
   "display_name": ".venv",
   "language": "python",
   "name": "python3"
  },
  "language_info": {
   "name": "python",
   "version": "3.10.6"
  },
  "orig_nbformat": 4
 },
 "nbformat": 4,
 "nbformat_minor": 2
}
